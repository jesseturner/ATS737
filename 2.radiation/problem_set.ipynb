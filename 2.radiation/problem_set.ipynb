{
 "cells": [
  {
   "cell_type": "markdown",
   "metadata": {},
   "source": [
    "### HW2 Problem Set\n",
    "\n",
    "*Needs to be run on machine that can handle jupyter kernels (not smiller2)*"
   ]
  },
  {
   "cell_type": "code",
   "execution_count": 2,
   "metadata": {},
   "outputs": [],
   "source": [
    "import numpy as np"
   ]
  },
  {
   "cell_type": "markdown",
   "metadata": {},
   "source": [
    "**1. Fire Pixel Brightness Temperature:**\n",
    "Consider a single pixel observed at nadir by a satellite-based radiometer at two wavelengths, 3.9 𝜇m and 11.0 𝜇m. The pixel consists of a clear-sky scene over forested land, where an active fire is present. The fraction of non-burning forest\n",
    "is 90% and the fraction of fire is 10%. The non-burning forest temperature is 290.0 K, and the fire temperature is 1000.0 K. Consider the atmosphere as a clean window at both\n",
    "wavelengths, and the emissivity of the non-burning and burning components of the pixel\n",
    "are both $\\epsilon = 1$."
   ]
  },
  {
   "cell_type": "markdown",
   "metadata": {},
   "source": [
    "1a. Use the Planck function (and its inverse) to calculate the brightness temperature of the pixel at both wavelengths (assume a monochromatic central wavelength calculation, disregarding sensor response functions).\n",
    "\n",
    "*[Software: you can either code up the Planck and Inverse Planck function from the\n",
    "Radiative Transfer Lecture 1, using any available Python codes, or the IDL codes supplied\n",
    "on the class Google Drive]*"
   ]
  },
  {
   "cell_type": "code",
   "execution_count": 3,
   "metadata": {},
   "outputs": [
    {
     "name": "stdout",
     "output_type": "stream",
     "text": [
      "3.9 um: temperature 361.0, radiance 4.8e+06, brightness temperature 361.0\n"
     ]
    }
   ],
   "source": [
    "wl = 3.9e-6 #m\n",
    "\n",
    "c = 299792458 #m/s\n",
    "h = 6.6260755e-34 #Js\n",
    "k = 1.380658e-23 #J/K\n",
    "\n",
    "c1 = 2*h*c*c  #W m2\n",
    "c2 = h*c/k    #K m\n",
    "\n",
    "T = 1000*0.1+290*0.9 #K\n",
    "\n",
    "B = c1 / ( (wl)**5 * (np.exp(c2/(wl*T) ) - 1 ) )\n",
    "\n",
    "T_B = c2 / ( wl * np.log( c1/( (wl**5) * B ) + 1 ) )\n",
    "\n",
    "print(f'3.9 um: temperature {T}, radiance {B:.2g}, brightness temperature {T_B}')"
   ]
  },
  {
   "cell_type": "code",
   "execution_count": 4,
   "metadata": {},
   "outputs": [
    {
     "name": "stdout",
     "output_type": "stream",
     "text": [
      "11 um: temperature 361.0, radiance 2e+07, brightness temperature 361.0\n"
     ]
    }
   ],
   "source": [
    "wl = 11.0e-6 #m\n",
    "\n",
    "B = c1 / ( (wl)**5 * (np.exp(c2/(wl*T) ) - 1 ) )\n",
    "\n",
    "T_B = c2 / ( wl * np.log( c1/( (wl**5) * B ) + 1 ) )\n",
    "\n",
    "print(f'11 um: temperature {T}, radiance {B:.2g}, brightness temperature {T_B}')\n"
   ]
  },
  {
   "cell_type": "markdown",
   "metadata": {},
   "source": [
    "1b. Do the brightness temperatures differ? Why or why not?"
   ]
  },
  {
   "cell_type": "markdown",
   "metadata": {},
   "source": [
    "The brightness temperatures are the same because there are no emissivity differences or atmospheric effects to cause the scene to diverge from acting like a blackbody. "
   ]
  },
  {
   "cell_type": "markdown",
   "metadata": {},
   "source": [
    "1c. Repeat this experiment assuming a measurement at a wavelength of $\\lambda = 3$ millimeter (W-band) and another measurement at a wavelength of $\\lambda = 1$ centimeter (Ka-band). Again, assume surface emissivity $\\epsilon = 1.0$ and the atmosphere is behaving as a window for both measurements."
   ]
  },
  {
   "cell_type": "code",
   "execution_count": 5,
   "metadata": {},
   "outputs": [
    {
     "name": "stdout",
     "output_type": "stream",
     "text": [
      "Ka-band (1 cm): temperature 361.0, radiance 0.0003, brightness temperature 361.00000000000097\n"
     ]
    }
   ],
   "source": [
    "wl = 1e-2 #m\n",
    "\n",
    "c = 299792458 #m/s\n",
    "h = 6.6260755e-34 #Js\n",
    "k = 1.380658e-23 #J/K\n",
    "\n",
    "c1 = 2*h*c*c  #W m2\n",
    "c2 = h*c/k    #K m\n",
    "\n",
    "T = 1000*0.1+290*0.9 #K\n",
    "\n",
    "B = c1 / ( (wl)**5 * (np.exp(c2/(wl*T) ) - 1 ) )\n",
    "\n",
    "T_B = c2 / ( wl * np.log( c1/( (wl**5) * B ) + 1 ) )\n",
    "\n",
    "print(f'Ka-band (1 cm): temperature {T}, radiance {B:.2g}, brightness temperature {T_B}')"
   ]
  },
  {
   "cell_type": "code",
   "execution_count": 6,
   "metadata": {},
   "outputs": [
    {
     "name": "stdout",
     "output_type": "stream",
     "text": [
      "W-band (3 mm): temperature 361.0, radiance 0.037, brightness temperature 361.0000000000018\n"
     ]
    }
   ],
   "source": [
    "wl = 3e-3 #m\n",
    "\n",
    "B = c1 / ( (wl)**5 * (np.exp(c2/(wl*T) ) - 1 ) )\n",
    "\n",
    "T_B = c2 / ( wl * np.log( c1/( (wl**5) * B ) + 1 ) )\n",
    "\n",
    "print(f'W-band (3 mm): temperature {T}, radiance {B:.2g}, brightness temperature {T_B}')"
   ]
  },
  {
   "cell_type": "markdown",
   "metadata": {},
   "source": [
    "1d. Do the brightness temperatures differ? Why or why not?"
   ]
  },
  {
   "cell_type": "markdown",
   "metadata": {},
   "source": [
    "The brightness temperatures are again the same because these objects are behaving as blackbodies for this scenario. "
   ]
  },
  {
   "cell_type": "markdown",
   "metadata": {},
   "source": [
    "1e. How does the second experiment’s result compare to a simple weighted average of the temperatures for the burning and non-burning parts of the scene?"
   ]
  },
  {
   "cell_type": "markdown",
   "metadata": {},
   "source": [
    "The weighted temperature is the same as the brightness temperatures for these scenarios. "
   ]
  },
  {
   "cell_type": "markdown",
   "metadata": {},
   "source": [
    "**2. Semi-Transparent Cloud:** Consider a single pixel observed at a zenith angle of 45° by a satellite-based radiometer at a central wavelength of 8.5 𝜇m. The pixel consists of a single\n",
    "cloud layer scene over a land surface. The temperature of the land surface is 300° K with emissivity $\\epsilon_{𝑙𝑎𝑛𝑑,8.5𝜇𝑚} = 0.90$, and the temperature of the cloud is 220° K with an optical thickness of $\\tau_{cloud,8.5𝜇𝑚} = 1.0$. Assume a purely absorbing/emitting scenario and ignore gaseous absorption."
   ]
  },
  {
   "cell_type": "markdown",
   "metadata": {},
   "source": [
    "2a. What is the monochromatic brightness temperature for this pixel?"
   ]
  },
  {
   "cell_type": "code",
   "execution_count": 7,
   "metadata": {},
   "outputs": [
    {
     "name": "stdout",
     "output_type": "stream",
     "text": [
      "Brightness temperature: 242.58 K\n"
     ]
    }
   ],
   "source": [
    "def blackbody_radiance(T, wl):\n",
    "    h = 6.626e-34\n",
    "    c = 3e8\n",
    "    k = 1.380e-23\n",
    "    B = (2*h*c**2)/(wl**5 * (np.exp((h*c)/(k*wl*T))-1))\n",
    "    return B\n",
    "\n",
    "def I_sfc(wl, T_sfc, optical_thickness, mu):\n",
    "    I_sfc = blackbody_radiance(T_sfc, wl)*np.exp(-optical_thickness/mu)\n",
    "    return I_sfc\n",
    "\n",
    "def I_cloud(wl, T_cloud):\n",
    "    I_cloud = blackbody_radiance(T_cloud, wl)\n",
    "    return I_cloud\n",
    "\n",
    "def brightness_temperature(I, wl):\n",
    "    h = 6.626e-34\n",
    "    c = 3e8\n",
    "    k = 1.380e-23\n",
    "    Tb = (h*c)/(k*wl * np.log(1 + ((2*h*c**2)/(I*wl**5))))\n",
    "    return Tb\n",
    "\n",
    "wl = 8.5e-6 #m\n",
    "T_sfc = 300 #K\n",
    "T_cloud = 220 #K\n",
    "mu = np.cos(45) #degrees from zenith\n",
    "tau_cloud = 1\n",
    "emissivity_sfc = 0.9\n",
    "\n",
    "I = emissivity_sfc*I_sfc(wl, T_sfc, tau_cloud, mu) + I_cloud(wl, T_cloud)\n",
    "\n",
    "T_B = brightness_temperature(I, wl)\n",
    "\n",
    "print(f'Brightness temperature: {T_B:.2f} K')"
   ]
  },
  {
   "cell_type": "markdown",
   "metadata": {},
   "source": [
    "2b. Repeat the calculation for a nadir observation angle."
   ]
  },
  {
   "cell_type": "code",
   "execution_count": 8,
   "metadata": {},
   "outputs": [
    {
     "name": "stdout",
     "output_type": "stream",
     "text": [
      "Brightness temperature: 263.72 K\n"
     ]
    }
   ],
   "source": [
    "wl = 8.5e-6 #m\n",
    "T_sfc = 300 #K\n",
    "T_cloud = 220 #K\n",
    "mu = np.cos(0) #degrees from zenith\n",
    "tau_cloud = 1\n",
    "emissivity_sfc = 0.9\n",
    "\n",
    "I = emissivity_sfc*I_sfc(wl, T_sfc, tau_cloud, mu) + I_cloud(wl, T_cloud)\n",
    "\n",
    "T_B = brightness_temperature(I, wl)\n",
    "\n",
    "print(f'Brightness temperature: {T_B:.2f} K')"
   ]
  },
  {
   "cell_type": "markdown",
   "metadata": {},
   "source": [
    "**3. Satellite-viewing nadir to limb behavior for purely-absorbing and purely-scattering atmospheres:**"
   ]
  },
  {
   "cell_type": "markdown",
   "metadata": {},
   "source": [
    "3a. The solution to the radiative transfer equation (RTE) for a purely absorbing medium (i.e., Schwarzschild’s Equation; valid for the gaseous atmosphere in the infrared) is given by:\n",
    "\n",
    "$$\n",
    "L_{\\lambda, sat} = L_{\\lambda, sfc}e^{-\\tau^*_\\lambda / \\mu} + \\int_0^{\\tau^*} e^{-\\tau'_\\lambda / \\mu} B_\\lambda(T) \\frac{d\\tau'_\\lambda}{\\mu}\n",
    "$$\n",
    "\n",
    "Where $\\tau^*_\\lambda$ is the total optical depth of the atmosphere, $\\mu = \\text{cos}\\theta$ for viewing zenith angle $\\theta$, $L_{\\lambda, sfc}$ is the upwelling radiance from the surface, and $B_\\lambda(T)$ is the Planck radiance (temperature $T$ is height-dependent). Assuming a uniform ocean surface temperature that is significantly greater than the mean atmospheric temperature (e.g., $T_{surface} = 300$ K, $T_{atmos} = 250$ K), and assuming a wavelength where the gaseous atmosphere is actively absorbing/emitting (i.e., $\\tau_\\lambda > 0$), explain in words (i.e., based on components of the equation; no calculations needed) the general trend of the observed radiance ($L_{\\lambda, sat}$) as the viewing zenith angle increases from 0° toward 90° (the limb of the earth). You can neglect curvature of the earth for this explanation."
   ]
  },
  {
   "cell_type": "markdown",
   "metadata": {},
   "source": [
    "At nadir, the observed radiance will be at its maximum. This is due to the reduced impact of the transmittance term ($e^{-\\tau^*_\\lambda / \\mu}$) through that shortest path length through the atmosphere. As the viewing angle increases toward the limb, the atmospheric contribution will be relatively larger ($B_\\lambda(T)$ in the equation) and the surface radiance relatively smaller. And since the atmosphere is cooler, this will cause a reduction in observed radiance at the limb. "
   ]
  },
  {
   "cell_type": "markdown",
   "metadata": {},
   "source": [
    "3b. The solution to the RTE for a purely scattering medium (valid for the visible-light spectrum) under the assumption of first-order scattering of sunlight (ignoring higher-order diffuse scatter) is given by:\n",
    "\n",
    "$$\n",
    "L_{\\lambda, sat} = L_{\\lambda, sfc} e^{-\\tau^*_\\lambda / \\mu} + \\frac{\\tau_\\lambda^*}{\\mu} \\frac{\\omega_\\lambda}{4\\pi} F_{0, \\lambda} P_\\lambda (\\theta_0)\n",
    "$$\n",
    "\n",
    "Where $\\omega_\\lambda$ is the single-scatter albedo, $F_{0, \\lambda}$ is the downwelling solar spectral irradiance at the top of the atmosphere, $P_\\lambda (\\theta_0)$ is the scattering phase function, and $\\theta_0$ is the scattering angle between the Sun and satellite viewing direction, and all other variables are as in part (a). Assume for this problem observations in the visible spectrum over an dark ocean surface, away from sun glint. Once again, explain in words (i.e., based on components of the equation; no calculations needed) the general trend of the observed radiance ($L_{\\lambda, sat}$) as the viewing zenith angle increases from 0° (nadir) toward 90° (the limb of the earth). You can neglect curvature of the earth for this explanation."
   ]
  },
  {
   "cell_type": "markdown",
   "metadata": {},
   "source": [
    "The observed radiance will be at its maximum from the nadir perspective. This is due to both the optical thickness (as described before) and the phase function. The phase function determines how isotropically the light is scattered, so this will determine how quickly the observed radiance decreases as the viewing moves toward the limb. "
   ]
  },
  {
   "cell_type": "markdown",
   "metadata": {},
   "source": [
    "**4. Identifying meteorological features in satellite imagery and relate to underlying dynamics:**\n",
    "\n",
    "Using recent (up to 1 month old, online archive) satellite imagery from:\n",
    "* CIRA SLIDER: https://rammb-slider.cira.colostate.edu/ or\n",
    "* NASA World View: https://worldview.earthdata.nasa.gov/\n",
    "\n",
    "…and analysis tools (where applicable) from:\n",
    "* College of DuPage (https://weather.cod.edu/satrad/)\n",
    "* Pivotal Weather (https://www.pivotalweather.com/model.php)\n",
    "\n",
    "See how many of these features you can find (create a powerpoint or similar document with screen captures or animations. Use annotations to point out features):"
   ]
  },
  {
   "cell_type": "markdown",
   "metadata": {},
   "source": [
    "4a. Identify mid-latitude cyclones at three different stages in development (initial/precursor, cyclogenesis/wave underway, and intensification/maturing stages) and identify flows of warm/cold air based on conveyor belt theory. Compare against synoptic analysis if available. You can follow the development of one system or pick out various systems in different stages. (For assistance, consult the Bader et al. book, the NOAA Ocean Prediction Center (OPC) “Types of Cyclones” hand-out provided on the class drive, or this short EUMETrain piece)."
   ]
  },
  {
   "cell_type": "markdown",
   "metadata": {},
   "source": [
    "4b. Identify an example of open-cell and closed-cell maritime convection. Compare against analysis if available. Can you identify the line of demarcation between them? Where would the jet streak be located?"
   ]
  },
  {
   "cell_type": "markdown",
   "metadata": {},
   "source": [
    "4c. Identify cloud streets in satellite imagery (can sometimes find them offshore of continents as winter hemisphere fronts move offshore, or associated with onshore winds in the warm-sector of a mid-latitude cyclone). Compare against low-level winds if available."
   ]
  },
  {
   "cell_type": "markdown",
   "metadata": {},
   "source": [
    "4d. Use water vapor imagery to identify a deformation zone. Compare against upper-air (e.g., 300 mb) circulation if available."
   ]
  },
  {
   "cell_type": "markdown",
   "metadata": {},
   "source": [
    "4e. Use Himawari-9 daytime visible imagery to identify sun glint patterns over the Maritime Continent region. Can you find any solitary internal waves as discussed in class?"
   ]
  },
  {
   "cell_type": "markdown",
   "metadata": {},
   "source": [
    "Extra Credit: Find…\n",
    "* An active fire\n",
    "* A dust storm\n",
    "* Orographic clouds\n",
    "* Electrically active convection with GLM data\n",
    "* A snow field\n",
    "* Billow clouds atop convection.\n",
    "* A nighttime fog layer, and observe its daytime burn-off characteristics."
   ]
  },
  {
   "cell_type": "markdown",
   "metadata": {},
   "source": []
  }
 ],
 "metadata": {
  "kernelspec": {
   "display_name": "ats737",
   "language": "python",
   "name": "python3"
  },
  "language_info": {
   "codemirror_mode": {
    "name": "ipython",
    "version": 3
   },
   "file_extension": ".py",
   "mimetype": "text/x-python",
   "name": "python",
   "nbconvert_exporter": "python",
   "pygments_lexer": "ipython3",
   "version": "3.12.9"
  }
 },
 "nbformat": 4,
 "nbformat_minor": 2
}
