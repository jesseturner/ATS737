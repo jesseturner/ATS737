{
 "cells": [
  {
   "cell_type": "markdown",
   "metadata": {},
   "source": [
    "### HW2 Problem Set\n",
    "\n",
    "*Needs to be run on machine that can handle jupyter kernels (not smiller2)*"
   ]
  },
  {
   "cell_type": "markdown",
   "metadata": {},
   "source": [
    "**1. Fire Pixel Brightness Temperature:**\n",
    "Consider a single pixel observed at nadir by a satellite-based radiometer at two wavelengths, 3.9 𝜇m and 11.0 𝜇m. The pixel consists of a clear-sky scene over forested land, where an active fire is present. The fraction of non-burning forest\n",
    "is 90% and the fraction of fire is 10%. The non-burning forest temperature is 290.0 K, and the fire temperature is 1000.0 K. Consider the atmosphere as a clean window at both\n",
    "wavelengths, and the emissivity of the non-burning and burning components of the pixel\n",
    "are both $\\epsilon = 1$."
   ]
  },
  {
   "cell_type": "markdown",
   "metadata": {},
   "source": [
    "1a. Use the Planck function (and its inverse) to calculate the brightness temperature of the pixel at both wavelengths (assume a monochromatic central wavelength calculation, disregarding sensor response functions).\n",
    "\n",
    "*[Software: you can either code up the Planck and Inverse Planck function from the\n",
    "Radiative Transfer Lecture 1, using any available Python codes, or the IDL codes supplied\n",
    "on the class Google Drive]*"
   ]
  },
  {
   "cell_type": "markdown",
   "metadata": {},
   "source": [
    "1b. Do the brightness temperatures differ? Why or why not?"
   ]
  },
  {
   "cell_type": "markdown",
   "metadata": {},
   "source": [
    "1c. Repeat this experiment assuming a measurement at a wavelength of $\\lambda = 3$ millimeter (W-band) and another measurement at a wavelength of $\\lambda = 1$ centimeter (Ka-band). Again, assume surface emissivity $\\epsilon = 1.0$ and the atmosphere is behaving as a window for both measurements."
   ]
  },
  {
   "cell_type": "markdown",
   "metadata": {},
   "source": [
    "1d. Do the brightness temperatures differ? Why or why not?"
   ]
  },
  {
   "cell_type": "markdown",
   "metadata": {},
   "source": [
    "1e. How does the second experiment’s result compare to a simple weighted average of the temperatures for the burning and non-burning parts of the scene?"
   ]
  },
  {
   "cell_type": "markdown",
   "metadata": {},
   "source": [
    "**2. Semi-Transparent Cloud:** Consider a single pixel observed at a zenith angle of 45° by a satellite-based radiometer at a central wavelength of 8.5 𝜇m. The pixel consists of a single\n",
    "cloud layer scene over a land surface. The temperature of the land surface is 300° K with emissivity $\\epsilon_{𝑙𝑎𝑛𝑑,8.5𝜇𝑚} = 0.90$, and the temperature of the cloud is 220° K with an optical thickness of $\\tau_{cloud,8.5𝜇𝑚} = 1.0$. Assume a purely absorbing/emitting scenario and ignore gaseous absorption."
   ]
  },
  {
   "cell_type": "markdown",
   "metadata": {},
   "source": [
    "2a. What is the monochromatic brightness temperature for this pixel?"
   ]
  },
  {
   "cell_type": "markdown",
   "metadata": {},
   "source": [
    "2b. Repeat the calculation for a nadir observation angle."
   ]
  },
  {
   "cell_type": "markdown",
   "metadata": {},
   "source": [
    "**3. Satellite-viewing nadir to limb behavior for purely-absorbing and purely-scattering atmospheres:**"
   ]
  },
  {
   "cell_type": "markdown",
   "metadata": {},
   "source": [
    "3a. The solution to the radiative transfer equation (RTE) for a purely absorbing medium (i.e., Schwarzschild’s Equation; valid for the gaseous atmosphere in the infrared) is given by:\n",
    "\n",
    "$$\n",
    "L_{\\lambda, sat} = L_{\\lambda, sfc}e^{-\\tau^*_\\lambda / \\mu} + \\int_0^{\\tau^*} e^{-\\tau'_\\lambda / \\mu} B_\\lambda(T) \\frac{d\\tau'_\\lambda}{\\mu}\n",
    "$$\n",
    "\n",
    "Where $\\tau^*_\\lambda$ is the total optical depth of the atmosphere, $\\mu = \\text{cos}\\theta$ for viewing zenith angle $\\theta$, $L_{\\lambda, sfc}$ is the upwelling radiance from the surface, and $B_\\lambda(T)$ is the Planck radiance (temperature $T$ is height-dependent). Assuming a uniform ocean surface temperature that is significantly greater than the mean atmospheric temperature (e.g., $T_{surface} = 300$ K, $T_{atmos} = 250$ K), and assuming a wavelength where the gaseous atmosphere is actively absorbing/emitting (i.e., $\\tau_\\lambda > 0$), explain in words (i.e., based on components of the equation; no calculations needed) the general trend of the observed radiance ($L_{\\lambda, sat}$) as the viewing zenith angle increases from 0° toward 90° (the limb of the earth). You can neglect curvature of the earth for this explanation."
   ]
  },
  {
   "cell_type": "markdown",
   "metadata": {},
   "source": [
    "3b. The solution to the RTE for a purely scattering medium (valid for the visible-light spectrum) under the assumption of first-order scattering of sunlight (ignoring higher-order diffuse scatter) is given by:\n",
    "\n",
    "$$\n",
    "L_{\\lambda, sat} = L_{\\lambda, sfc} e^{-\\tau^*_\\lambda / \\mu} + \\frac{\\tau_\\lambda^*}{\\mu} \\frac{\\omega_\\lambda}{4\\pi} F_{0, \\lambda} P_\\lambda (\\theta_0)\n",
    "$$\n",
    "\n",
    "Where $\\omega_\\lambda$ is the single-scatter albedo, $F_{0, \\lambda}$ is the downwelling solar spectral irradiance at the top of the atmosphere, $P_\\lambda (\\theta_0)$ is the scattering phase function, and $\\theta_0$ is the scattering angle between the Sun and satellite viewing direction, and all other variables are as in part (a). Assume for this problem observations in the visible spectrum over an dark ocean surface, away from sun glint. Once again, explain in words (i.e., based on components of the equation; no calculations needed) the general trend of the observed radiance ($L_{\\lambda, sat}$) as the viewing zenith angle increases from 0° (nadir) toward 90° (the limb of the earth). You can neglect curvature of the earth for this explanation."
   ]
  },
  {
   "cell_type": "markdown",
   "metadata": {},
   "source": [
    "**4. Identifying meteorological features in satellite imagery and relate to underlying dynamics:**\n",
    "\n",
    "Using recent (up to 1 month old, online archive) satellite imagery from:\n",
    "* CIRA SLIDER: https://rammb-slider.cira.colostate.edu/ or\n",
    "* NASA World View: https://worldview.earthdata.nasa.gov/\n",
    "\n",
    "…and analysis tools (where applicable) from:\n",
    "* College of DuPage (https://weather.cod.edu/satrad/)\n",
    "* Pivotal Weather (https://www.pivotalweather.com/model.php)\n",
    "\n",
    "See how many of these features you can find (create a powerpoint or similar document with screen captures or animations. Use annotations to point out features):"
   ]
  },
  {
   "cell_type": "markdown",
   "metadata": {},
   "source": [
    "4a. Identify mid-latitude cyclones at three different stages in development (initial/precursor, cyclogenesis/wave underway, and intensification/maturing stages) and identify flows of warm/cold air based on conveyor belt theory. Compare against synoptic analysis if available. You can follow the development of one system or pick out various systems in different stages. (For assistance, consult the Bader et al. book, the NOAA Ocean Prediction Center (OPC) “Types of Cylcones” hand-out provided on the class drive, or this short EUMETrain piece)."
   ]
  },
  {
   "cell_type": "markdown",
   "metadata": {},
   "source": [
    "4b. Identify an example of open-cell and closed-cell maritime convection. Compare against analysis if available. Can you identify the line of demarcation between them? Where would the jet streak be located?"
   ]
  },
  {
   "cell_type": "markdown",
   "metadata": {},
   "source": [
    "4c. Identify cloud streets in satellite imagery (can sometimes find them offshore of continents as winter hemisphere fronts move offshore, or associated with onshore winds in the warm-sector of a mid-latitude cyclone). Compare against low-level winds if available."
   ]
  },
  {
   "cell_type": "markdown",
   "metadata": {},
   "source": [
    "4d. Use water vapor imagery to identify a deformation zone. Compare against upper-air (e.g., 300 mb) circulation if available."
   ]
  },
  {
   "cell_type": "markdown",
   "metadata": {},
   "source": [
    "4e. Use Himawari-9 daytime visible imagery to identify sun glint patterns over the Maritime Continent region. Can you find any solitary internal waves as discussed in class?"
   ]
  },
  {
   "cell_type": "markdown",
   "metadata": {},
   "source": [
    "Extra Credit: Find…\n",
    "* An active fire\n",
    "* A dust storm\n",
    "* Orographic clouds\n",
    "* Electrically active convection with GLM data\n",
    "* A snow field\n",
    "* Billow clouds atop convection.\n",
    "* A nighttime fog layer, and observe its daytime burn-off characteristics."
   ]
  },
  {
   "cell_type": "markdown",
   "metadata": {},
   "source": []
  }
 ],
 "metadata": {
  "language_info": {
   "name": "python"
  }
 },
 "nbformat": 4,
 "nbformat_minor": 2
}
