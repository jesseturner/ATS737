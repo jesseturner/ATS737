{
 "cells": [
  {
   "cell_type": "markdown",
   "metadata": {},
   "source": [
    "## HW1: ISS Overflight"
   ]
  },
  {
   "cell_type": "markdown",
   "metadata": {},
   "source": [
    "**Two-Line Elements for the ISS Satellite (valid for 11/27/2024):**\n",
    "\n",
    "1 25544U 98067A 24332.39236791 .00023440 00000-0 41811-3 0 9995\n",
    "\n",
    "2 25544 51.6389 226.8295 0006858 273.4406 86.5798 15.49937635483865"
   ]
  },
  {
   "cell_type": "markdown",
   "metadata": {},
   "source": [
    "a. Using the software provided on the class Drive, and based on discussions in class,\n",
    "compute and plot on a map the ground track of the ISS for this overpass."
   ]
  },
  {
   "cell_type": "code",
   "execution_count": null,
   "metadata": {},
   "outputs": [],
   "source": []
  }
 ],
 "metadata": {
  "kernelspec": {
   "display_name": "ats737",
   "language": "python",
   "name": "python3"
  },
  "language_info": {
   "codemirror_mode": {
    "name": "ipython",
    "version": 3
   },
   "file_extension": ".py",
   "mimetype": "text/x-python",
   "name": "python",
   "nbconvert_exporter": "python",
   "pygments_lexer": "ipython3",
   "version": "3.11.11"
  }
 },
 "nbformat": 4,
 "nbformat_minor": 2
}
