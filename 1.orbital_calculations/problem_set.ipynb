{
 "cells": [
  {
   "cell_type": "markdown",
   "metadata": {},
   "source": [
    "### HW1 Problem Set\n",
    "\n",
    "*Needs to be run on machine that can handle jupyter kernels (not smiller2)*"
   ]
  },
  {
   "cell_type": "markdown",
   "metadata": {},
   "source": [
    "1. ISS Overflight Problem: ISS overpass around 0030 UTC on 3 Dec. \n",
    "    \n",
    "    a. Compute the ground track over Colorado.\n",
    "    \n",
    "    b. From Fort Collins, compute the elevation and azimuth angles for this ISS overpass for +/- 5 minutes about the time of the maximum elevation angle."
   ]
  },
  {
   "cell_type": "markdown",
   "metadata": {},
   "source": [
    "*Done using 1.instructions.txt*"
   ]
  },
  {
   "cell_type": "markdown",
   "metadata": {},
   "source": [
    "2. Using a high-powered telescope, you measure the distance between a planet and one of its\n",
    "moons as $1.22185*10^6$ km (mass center to mass center). Next, you measure the time\n",
    "required for that moon to complete one orbit around the planet as $15.94$ days. Using these\n",
    "data, what is the approximate mass of the planet?\n"
   ]
  },
  {
   "cell_type": "code",
   "execution_count": null,
   "metadata": {},
   "outputs": [],
   "source": []
  }
 ],
 "metadata": {
  "language_info": {
   "name": "python"
  }
 },
 "nbformat": 4,
 "nbformat_minor": 2
}
